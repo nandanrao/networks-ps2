{
 "cells": [
  {
   "cell_type": "markdown",
   "metadata": {
    "ein.tags": [
     "worksheet-0"
    ],
    "slideshow": {
     "slide_type": "-"
    }
   },
   "source": [
    "## Local Coordination Game\n",
    "\n",
    "$\\alpha$ and $\\beta$ can be considered the personal benefit, independent of others choices, that player i gets from choose a and b respectively. Unlike in the situation we studied in class, here the degree of the node does not drop out of the equation and there is not a uniform equation for a probabilistic best reply _irrespective_ of the degree of the node.\n",
    "\n",
    "Instead the best reply of A is given when:\n",
    "\n",
    "$$\n",
    "P_A \\geq \\big( \\frac{\\beta - \\alpha}{D_i} + b \\big) \\frac{1}{a + b}\n",
    "$$\n",
    "\n",
    "Where $P_A$ is the probability of a node starting A and $D_i$ is the degree of the node.\n",
    "\n",
    "Similarly, the reason we could characterize nash equilibria by p-clusters in the simpler case was, where the best reply of A was given by $ P_A \\geq \\frac{b}{a + b}$, was that we could relate the p-cluster values to that static threshold. We no longer have this, now the threshold for each node is dependent on its degree, and p-clusters no longer suffice to characterize equilibria. To be more specific, with large enough $\\alpha$, the p-percentage of a given node (the number of nodes of similar choice it is connected to) with small degree will be irrelevant, as the fixed $\\alpha$ will dominate the decision-making process, which will only get moderated as the degree of the node grows. \n"
   ]
  },
  {
   "cell_type": "markdown",
   "metadata": {
    "ein.tags": [
     "worksheet-0"
    ],
    "slideshow": {
     "slide_type": "-"
    }
   },
   "source": [
    "## Community Detection\n",
    "\n",
    "a) The concept of _resolution limit_ is very nicely described in Barabasi, where he makes it very clear that the discrete nature of links limits our ability to detect communities below a certain size (relative to the total number of links in the network), because the expected number of links to a another small community will be less than one! \n",
    "\n",
    "b) Again, Barabasi provides a nice introduction to the GN and LFR benchmarks, where we randomly generate graphs by assigning nodes to communities (the \"ground truth\" we compare against) and then comparing in different ways the results of the community-detection algorithms. The LFR takes into account the distributional meta characteristics of many popular networks, which makes it seem better in many ways. I cannot help but notice, however, that just because the size of communities follows a power law distribution, does not mean that the way in which those communities are connected to each other is homogenous, as a single probability parameter would imply. Because of this I cannot help but think that using more complex random-graph generation models, such as those that allow for rich-get-richer characteristics, might have more heterogeneous communities that reflect more accurately those we see in real life. \n",
    "\n",
    "c) Scientific communities is a classic dataset, most likely popular because everyone using this dataset is also a part of it! For communities the most common is the collaboration graphs, instea do the directed citation version. However, there are also biological variants (protein interactions), and of course social networks! SNAP includes some with \"ground-truth\" communities including from friendster and livejournal. Also there are the \"traditional\" datasets such as the Karate Club and Florentine families. "
   ]
  },
  {
   "cell_type": "code",
   "execution_count": 0,
   "metadata": {
    "autoscroll": "json-false",
    "collapsed": false,
    "ein.tags": [
     "worksheet-0"
    ],
    "slideshow": {
     "slide_type": "-"
    }
   },
   "outputs": [],
   "source": [
    "!pip install --upgrade git+git://github.com/networkx/networkx.git#egg=networkx"
   ]
  },
  {
   "cell_type": "code",
   "execution_count": 1,
   "metadata": {
    "autoscroll": "json-false",
    "collapsed": false,
    "ein.tags": [
     "worksheet-0"
    ],
    "slideshow": {
     "slide_type": "-"
    }
   },
   "outputs": [],
   "source": [
    "import networkx as nx\n",
    "import pandas as pd\n",
    "import numpy as np\n",
    "import matplotlib.pyplot as plt\n",
    "import seaborn as sns"
   ]
  },
  {
   "cell_type": "code",
   "execution_count": 2,
   "metadata": {
    "autoscroll": "json-false",
    "collapsed": false,
    "ein.tags": [
     "worksheet-0"
    ],
    "slideshow": {
     "slide_type": "-"
    }
   },
   "outputs": [],
   "source": [
    "from modularity import modularity_matrix, directed_modularity_matrix"
   ]
  },
  {
   "cell_type": "code",
   "execution_count": 3,
   "metadata": {
    "autoscroll": "json-false",
    "collapsed": false,
    "ein.tags": [
     "worksheet-0"
    ],
    "slideshow": {
     "slide_type": "-"
    }
   },
   "outputs": [],
   "source": [
    "def network_from_df(path = \"data/high-energy-trimmed.txt\"):\n",
    "    df = pd.read_csv(path)\n",
    "    G = nx.DiGraph()\n",
    "    df = pd.read_csv(path, sep=\"\\t\")\n",
    "    nodes = df.iloc[:, 1].unique().tolist()\n",
    "    edges = [(f[0], f[1]) for f in df.as_matrix()]\n",
    "    G.add_nodes_from(nodes)\n",
    "    G.add_edges_from(edges)\n",
    "    return G\n",
    "\n",
    "\n",
    "get_top_hubs = lambda hits: get_top_nodes(hits[0])\n",
    "get_top_auths = lambda hits: get_top_nodes(hits[1])\n",
    "\n",
    "def get_top_nodes(d, n = 20):\n",
    "    return map(lambda x: x[0],\n",
    "               sorted(d.items(), key=lambda x: x[1]))[0:n]\n",
    "\n",
    "def erdos_degrees(n, p):\n",
    "    graph = nx.erdos_renyi_graph(n, p)\n",
    "    degrees = graph.degree().values()\n",
    "    return pd.DataFrame({ p: degrees})"
   ]
  },
  {
   "cell_type": "code",
   "execution_count": 0,
   "metadata": {
    "autoscroll": "json-false",
    "collapsed": false,
    "ein.tags": [
     "worksheet-0"
    ],
    "slideshow": {
     "slide_type": "-"
    }
   },
   "outputs": [],
   "source": [
    "erdos_graphs_5k = [nx.erdos_renyi_graph(1000, p) for p in [0.01, 0.1, 0.25, 0.6, 0.9]]"
   ]
  },
  {
   "cell_type": "code",
   "execution_count": 84,
   "metadata": {
    "autoscroll": "json-false",
    "collapsed": false,
    "ein.tags": [
     "worksheet-0"
    ],
    "slideshow": {
     "slide_type": "-"
    }
   },
   "outputs": [
    {
     "data": {
      "text/plain": [
       "[547, 1, 1, 1, 1, 1]"
      ]
     },
     "execution_count": 84,
     "metadata": {},
     "output_type": "execute_result"
    }
   ],
   "source": [
    "[nx.number_connected_components(G) for G in graphs]"
   ]
  },
  {
   "cell_type": "code",
   "execution_count": 0,
   "metadata": {
    "autoscroll": "json-false",
    "collapsed": false,
    "ein.tags": [
     "worksheet-0"
    ],
    "slideshow": {
     "slide_type": "-"
    }
   },
   "outputs": [],
   "source": [
    "[nx.average_shorted_path_length(G) for G in graphs]"
   ]
  },
  {
   "cell_type": "code",
   "execution_count": 1,
   "metadata": {
    "autoscroll": "json-false",
    "collapsed": false,
    "ein.tags": [
     "worksheet-0"
    ],
    "slideshow": {
     "slide_type": "-"
    }
   },
   "outputs": [
    {
     "ename": "NameError",
     "evalue": "name 'graphs' is not defined",
     "output_type": "error",
     "traceback": [
      "\u001b[1;31m\u001b[0m",
      "\u001b[1;31mNameError\u001b[0mTraceback (most recent call last)",
      "\u001b[1;32m<ipython-input-1-d268cd55f7d3>\u001b[0m in \u001b[0;36m<module>\u001b[1;34m()\u001b[0m\n\u001b[1;32m----> 1\u001b[1;33m \u001b[1;33m[\u001b[0m\u001b[0mnx\u001b[0m\u001b[1;33m.\u001b[0m\u001b[0mconnected_component_subgraphs\u001b[0m \u001b[1;32mfor\u001b[0m \u001b[0mG\u001b[0m \u001b[1;32min\u001b[0m \u001b[0mgraphs\u001b[0m\u001b[1;33m]\u001b[0m\u001b[1;33m\u001b[0m\u001b[0m\n\u001b[0m",
      "\u001b[1;31mNameError\u001b[0m: name 'graphs' is not defined"
     ]
    }
   ],
   "source": [
    "[nx.connected_component_subgraphs for G in graphs]"
   ]
  },
  {
   "cell_type": "code",
   "execution_count": 4,
   "metadata": {
    "autoscroll": "json-false",
    "collapsed": false,
    "ein.tags": [
     "worksheet-0"
    ],
    "slideshow": {
     "slide_type": "-"
    }
   },
   "outputs": [
    {
     "data": {
      "image/png": "[encoded data removed]",
      "text/plain": [
       "<matplotlib.figure.Figure at 0x7f1080aa0b90>"
      ]
     },
     "metadata": {},
     "output_type": "display_data"
    },
    {
     "data": {
      "text/plain": [
       "[<matplotlib.axes._subplots.AxesSubplot at 0x7f1080aa9590>,\n",
       " <matplotlib.axes._subplots.AxesSubplot at 0x7f1080aa9590>,\n",
       " <matplotlib.axes._subplots.AxesSubplot at 0x7f1080aa9590>,\n",
       " <matplotlib.axes._subplots.AxesSubplot at 0x7f1080aa9590>,\n",
       " <matplotlib.axes._subplots.AxesSubplot at 0x7f1080aa9590>]"
      ]
     },
     "execution_count": 4,
     "metadata": {},
     "output_type": "execute_result"
    }
   ],
   "source": [
    "[sns.kdeplot(erdos_degrees(50, p)[p]) for p in [0.01, 0.1, 0.25, 0.6, 0.9]]"
   ]
  },
  {
   "cell_type": "code",
   "execution_count": 7,
   "metadata": {
    "autoscroll": "json-false",
    "collapsed": false,
    "ein.tags": [
     "worksheet-0"
    ],
    "slideshow": {
     "slide_type": "-"
    }
   },
   "outputs": [
    {
     "data": {
      "image/png": "[encoded data removed]",
      "text/plain": [
       "<matplotlib.figure.Figure at 0x7f1076283090>"
      ]
     },
     "metadata": {},
     "output_type": "display_data"
    },
    {
     "data": {
      "text/plain": [
       "[<matplotlib.axes._subplots.AxesSubplot at 0x7f107e0b0bd0>,\n",
       " <matplotlib.axes._subplots.AxesSubplot at 0x7f107e0b0bd0>,\n",
       " <matplotlib.axes._subplots.AxesSubplot at 0x7f107e0b0bd0>,\n",
       " <matplotlib.axes._subplots.AxesSubplot at 0x7f107e0b0bd0>,\n",
       " <matplotlib.axes._subplots.AxesSubplot at 0x7f107e0b0bd0>]"
      ]
     },
     "execution_count": 7,
     "metadata": {},
     "output_type": "execute_result"
    }
   ],
   "source": [
    "[sns.kdeplot(erdos_degrees(2000, p)[p]) for p in [0.01, 0.1, 0.25, 0.6, 0.9]]"
   ]
  },
  {
   "cell_type": "code",
   "execution_count": 7,
   "metadata": {
    "autoscroll": "json-false",
    "collapsed": false,
    "ein.tags": [
     "worksheet-0"
    ],
    "slideshow": {
     "slide_type": "-"
    }
   },
   "outputs": [],
   "source": []
  },
  {
   "cell_type": "code",
   "execution_count": 0,
   "metadata": {
    "autoscroll": "json-false",
    "collapsed": false,
    "ein.tags": [
     "worksheet-0"
    ],
    "slideshow": {
     "slide_type": "-"
    }
   },
   "outputs": [],
   "source": []
  },
  {
   "cell_type": "markdown",
   "metadata": {
    "ein.tags": [
     "worksheet-0"
    ],
    "slideshow": {
     "slide_type": "-"
    }
   },
   "source": [
    "## SNAP High-Energy Physics Collaborations\n",
    "\n",
    "a) We can see that through each different centrality measure, we get different rankings. Because this particular network was recorded with directed edges but is symmetric (in reality, undirected), the hubs and authorities measures are exactly the same. Interestingly, the eigenvector centrality is very similar, which makes some sense when you consider the iterative nature of the HTIS algorithm and the relationship to the eigenvector centrality. "
   ]
  },
  {
   "cell_type": "code",
   "execution_count": 5,
   "metadata": {
    "autoscroll": "json-false",
    "collapsed": false,
    "ein.tags": [
     "worksheet-0"
    ],
    "slideshow": {
     "slide_type": "-"
    }
   },
   "outputs": [],
   "source": [
    "g = network_from_df()\n",
    "hits = nx.hits_scipy(g)\n",
    "pagerank = nx.pagerank_scipy(g)# default .85\n",
    "eigen = nx.eigenvector_centrality(g)\n",
    "degree = nx.degree_centrality(g)"
   ]
  },
  {
   "cell_type": "code",
   "execution_count": 6,
   "metadata": {
    "autoscroll": "json-false",
    "collapsed": false,
    "ein.tags": [
     "worksheet-0"
    ],
    "slideshow": {
     "slide_type": "-"
    }
   },
   "outputs": [
    {
     "data": {
      "text/plain": [
       "    authorities  degree  eigen   hubs  pagerank\n",
       "0            69       1     69     69      8264\n",
       "1         65674      11  65674  65674     50553\n",
       "2         65883      29  65883  65883      6012\n",
       "3           417   32801    417    417      2983\n",
       "4           427      69    427    427     47634\n",
       "5         65989   32894  65989  65989     59316\n",
       "6         33311   32896  33311  33311      2886\n",
       "7         66187   65669  66187  66187     45666\n",
       "8         71132     134   5596  71132      8098\n",
       "9           943   65674    943    943     55691\n",
       "10         1121     146   1121   1121     81047\n",
       "11        33936     218  33936  33936     38389\n",
       "12         1296     228  16588   1296     35935\n",
       "13        67059   65776   1296  67059     73178\n",
       "14        34629   65786  66883  34629     49085\n",
       "15         1873     254  67059   1873     83774\n",
       "16        67548   65793  34629  67548      8410\n",
       "17        67569   65796   1873  67569     19421\n",
       "18         5813   33033  67548   5813     26105\n",
       "19        34950     335  67569  34950      7413"
      ]
     },
     "execution_count": 6,
     "metadata": {},
     "output_type": "execute_result"
    }
   ],
   "source": [
    "pd.DataFrame({\n",
    "    'degree': get_top_nodes(degree),\n",
    "    'eigen': get_top_nodes(eigen),\n",
    "    'pagerank': get_top_nodes(pagerank),\n",
    "    'hubs': get_top_hubs(hits),\n",
    "    'authorities': get_top_auths(hits)\n",
    "})"
   ]
  },
  {
   "cell_type": "markdown",
   "metadata": {
    "ein.tags": [
     "worksheet-0"
    ],
    "slideshow": {
     "slide_type": "-"
    }
   },
   "source": [
    "### \n",
    "\n",
    "We see that there are a number of separate connected components in this networks!"
   ]
  },
  {
   "cell_type": "code",
   "execution_count": 7,
   "metadata": {
    "autoscroll": "json-false",
    "collapsed": false,
    "ein.tags": [
     "worksheet-0"
    ],
    "slideshow": {
     "slide_type": "-"
    }
   },
   "outputs": [
    {
     "data": {
      "text/plain": [
       "278"
      ]
     },
     "execution_count": 7,
     "metadata": {},
     "output_type": "execute_result"
    }
   ],
   "source": [
    "nx.number_strongly_connected_components(g)"
   ]
  },
  {
   "cell_type": "code",
   "execution_count": 8,
   "metadata": {
    "autoscroll": "json-false",
    "collapsed": false,
    "ein.tags": [
     "worksheet-0"
    ],
    "slideshow": {
     "slide_type": "-"
    }
   },
   "outputs": [],
   "source": [
    "diameters = (nx.diameter(G) for G in nx.strongly_connected_component_subgraphs(g))"
   ]
  },
  {
   "cell_type": "code",
   "execution_count": 0,
   "metadata": {
    "autoscroll": "json-false",
    "collapsed": false,
    "ein.tags": [
     "worksheet-0"
    ],
    "slideshow": {
     "slide_type": "-"
    }
   },
   "outputs": [],
   "source": [
    "from itertools import islice\n",
    "sns.distplot(list(islice(diameters, 0, 10)))"
   ]
  },
  {
   "cell_type": "code",
   "execution_count": 0,
   "metadata": {
    "autoscroll": "json-false",
    "collapsed": false,
    "ein.tags": [
     "worksheet-0"
    ],
    "slideshow": {
     "slide_type": "-"
    }
   },
   "outputs": [],
   "source": [
    "directed_modularity_matrix(g)"
   ]
  },
  {
   "cell_type": "code",
   "execution_count": 0,
   "metadata": {
    "autoscroll": "json-false",
    "collapsed": false,
    "ein.tags": [
     "worksheet-0"
    ],
    "slideshow": {
     "slide_type": "-"
    }
   },
   "outputs": [],
   "source": [
    "gnutella = network_from_df('data/p2p-Gnutella30.txt')"
   ]
  },
  {
   "cell_type": "code",
   "execution_count": 0,
   "metadata": {
    "autoscroll": "json-false",
    "collapsed": false,
    "ein.tags": [
     "worksheet-0"
    ],
    "slideshow": {
     "slide_type": "-"
    }
   },
   "outputs": [],
   "source": []
  }
 ],
 "metadata": {
  "kernelspec": {
   "display_name": "Python 2",
   "name": "python2"
  },
  "language_info": {
   "codemirror_mode": {
    "name": "ipython",
    "version": 2
   },
   "file_extension": ".py",
   "mimetype": "text/x-python",
   "name": "python",
   "nbconvert_exporter": "python",
   "pygments_lexer": "ipython2",
   "version": "2.7.12"
  },
  "name": "PS2.ipynb"
 },
 "nbformat": 4,
 "nbformat_minor": 2
}
